{
 "cells": [
  {
   "cell_type": "markdown",
   "metadata": {},
   "source": [
    "# Random Modülü"
   ]
  },
  {
   "cell_type": "markdown",
   "metadata": {},
   "source": [
    "Modüller bazı işlevleri kolaylıkla yerine getirmemizi sağlayan birtakım fonksiyonları ve nitelikleri içinde barındıran araçlardır.\n",
    "Modüllere kütüphane de diyebiliriz. Daha önceden yazılmış kodların içinden işimize yarayan kodları almak gibi bi şey.\n",
    "Kullanımında önce modülü koduna tanımlaman lazım bunu da \"import\" la yapıyosun. Random modülünü-kütüphanesini tanımlamak için:"
   ]
  },
  {
   "cell_type": "code",
   "execution_count": 33,
   "metadata": {},
   "outputs": [],
   "source": [
    "import random"
   ]
  },
  {
   "cell_type": "markdown",
   "metadata": {},
   "source": [
    "https://docs.python.org/3/library/random.html\n",
    "\n",
    "https://www.w3schools.com/python/module_random.asp \n",
    "Buralardan random modülüyle alakalı şeyleri görebilirsin\n"
   ]
  },
  {
   "cell_type": "markdown",
   "metadata": {},
   "source": [
    "Normal şartlarda random komutları tüm programlama dillerinde saate ve bilgisayarın çekirdek numaralarına göre sayı üretir. Bunu seed komutuyla değiştirebilirsin. Ne gerek var dersen, şimdi gerek yok ama kumar gibi bi şey yapıyosun diyelim eğer seed'in saat olarak kalırsa sonuçlar tahmin edilebilir olur. seed'i değiştirmek için:"
   ]
  },
  {
   "cell_type": "code",
   "execution_count": 34,
   "metadata": {},
   "outputs": [
    {
     "name": "stdout",
     "output_type": "stream",
     "text": [
      "0.5714025946899135\n"
     ]
    }
   ],
   "source": [
    "random.seed(10)\n",
    "print(random.random())"
   ]
  },
  {
   "cell_type": "markdown",
   "metadata": {},
   "source": [
    "Şimdi neden saate göre random alındığını göstereyim. Eğer seed her zaman aynı kalırsa sonuç hep aynı çıkar. Saat hiç bi zaman aynı kalmadığı için seed saate bağlı olduğunda hiç bi zaman aynı değeri almazsın. Alttaki ve üstteki iki değerin de aynı çıkması gerek çünkü ikisinin seed'i de 10"
   ]
  },
  {
   "cell_type": "code",
   "execution_count": 35,
   "metadata": {},
   "outputs": [
    {
     "name": "stdout",
     "output_type": "stream",
     "text": [
      "0.5714025946899135\n"
     ]
    }
   ],
   "source": [
    "random.seed(10)\n",
    "print(random.random())"
   ]
  },
  {
   "cell_type": "markdown",
   "metadata": {},
   "source": [
    "Direk random komutu alırsan 0 ve 1 arasında bi değer verir ama sen direk bi aralık arasında random istersen \"randrange\" kullanman lazım"
   ]
  },
  {
   "cell_type": "code",
   "execution_count": 11,
   "metadata": {},
   "outputs": [
    {
     "name": "stdout",
     "output_type": "stream",
     "text": [
      "4\n"
     ]
    }
   ],
   "source": [
    "print(random.randrange(3, 9)) #3 dahil 9 dahil değil"
   ]
  },
  {
   "cell_type": "markdown",
   "metadata": {},
   "source": [
    "Geriye kalan özellikleri için ilk attığım linklere bakabilirsin ama temelde kullanım için şu an sadece randrange bilsen yeterli istediğin aralıkta random sayı üretiyosun."
   ]
  },
  {
   "cell_type": "markdown",
   "metadata": {},
   "source": [
    "# Fonksiyonlar"
   ]
  },
  {
   "cell_type": "markdown",
   "metadata": {},
   "source": [
    "Fonksiyonlar için çok uzun işlemleri tek satırda halletmek diyebiliriz. Temel olarak yanında parantez olan her şey fonksiyon diyebiliriz. print(),len(),random()...\n",
    "\n",
    "Print gibi kendin yapamayacağın hazır fonksiyonların yanında kendin de fonksiyon yazabilirsin.\n",
    "\n",
    "Fonksiyonların bi girenleri bi çıkanları olur.Parantez içinde yazdıkların girenler, fonksiyonu eşitlediklerin çıkanlardır. (alttaki örneğe bak)\n",
    "\n",
    "Bi fonksiyon tanımlamak için \"def\" başlığıyla başlaman lazım. Sonra bi boşluk koyup fonksiyonunun adını yazman lazım. Sonra parantez açıp girenleri belirlemen lazım.\n",
    "\n",
    "Fonksiyonun içine yazmak istediğin işlemleri yazdıktan sonra \"return\" komutuyla çıkanları belirlersin.\n"
   ]
  },
  {
   "cell_type": "code",
   "execution_count": 18,
   "metadata": {},
   "outputs": [],
   "source": [
    "def ornekFonk(giren1,giren2,giren3):\n",
    "    #fonksiyonun içinde olduğunu 4 boşluk (1tab tuşu) içerde olmandan anlarsın.\n",
    "    a=giren1+giren2+giren3 \n",
    "    b=giren1*giren2*giren3\n",
    "    #fonksiyon içine ekstra değişkenler tanımlayabilirsin ama fonksiyon dışında bu...\n",
    "    #...değişkenlere ulaşamazsın( normal şartlarda)\n",
    "    return a , b #girenler gibi çıkanları da virgüllerle ayırıyosun."
   ]
  },
  {
   "cell_type": "code",
   "execution_count": 19,
   "metadata": {},
   "outputs": [
    {
     "name": "stdout",
     "output_type": "stream",
     "text": [
      "çıkan 1 : 22\n",
      "çıkan 2 : 320\n"
     ]
    }
   ],
   "source": [
    "cikan1 , cikan2 = ornekFonk(10,8,4) # çıkanları almak için fonksiyonun içinde \"return\"...\n",
    "#...kısmında yaptığın gibi virgül kullanıyosun. Burda cikan1=a , cikan2=b olmuş oluyor.\n",
    "\n",
    "print(\"çıkan 1 :\",cikan1)\n",
    "print(\"çıkan 2 :\",cikan2)"
   ]
  },
  {
   "cell_type": "markdown",
   "metadata": {},
   "source": [
    "Ne gerek var fonksiyona alt alta yazarım diyosan, mesela senin o dediğin kök bulma kodunda, programın farklı yerlerinde o kodu kullanmak istersen fonksiyon olmadan kullanmak istediğin her yere o kodu kopyala yapıştır yapman gerekir. Bu da kodu gereksiz uzun hale getiriyo ondan fonksiyon kullanarak kodu kısaltıyosun."
   ]
  },
  {
   "cell_type": "markdown",
   "metadata": {},
   "source": [
    "Bi de fonksiyonların mutlaka giren ve çıkanları olmak zorunda değil.\n",
    "\n",
    "Giren olmadığı zaman fonksiyonu çağırdığın yerde fonksiyon adının yanında parantez açıp kapatıyosun. \n",
    "\n",
    "Çıktısı olmayanlarda da fonksiyonu çağırdığın yerde bi şeye eşitlemiyosun. Normal şartlarda çıktısı olmayan fonksiyonları returnle bitirmesen de olur başka dillerde mutlaka return koyman gerekenler var ama pythonda buna gerek yok. "
   ]
  },
  {
   "cell_type": "code",
   "execution_count": 31,
   "metadata": {},
   "outputs": [],
   "source": [
    "def randSayi(baslangic,bitis):\n",
    "    sayi=random.randrange(baslangic,bitis)\n",
    "    toplam=sayi+baslangic+bitis\n",
    "    carpim=sayi*baslangic*bitis\n",
    "    sonuc=\"Belirlediğin {} - {} aralığındaki random sayı : {} , hepsinin toplamı: {} , hepsinin çarpımı : {} \".format(baslangic,bitis,sayi,toplam,carpim)\n",
    "    print(sonuc)"
   ]
  },
  {
   "cell_type": "code",
   "execution_count": 32,
   "metadata": {},
   "outputs": [
    {
     "name": "stdout",
     "output_type": "stream",
     "text": [
      "Belirlediğin 5 - 14 aralığındaki random sayı : 7 , hepsinin toplamı: 26 , hepsinin çarpımı : 490 \n",
      "Belirlediğin 6 - 10 aralığındaki random sayı : 6 , hepsinin toplamı: 22 , hepsinin çarpımı : 360 \n",
      "Belirlediğin 7 - 13 aralığındaki random sayı : 8 , hepsinin toplamı: 28 , hepsinin çarpımı : 728 \n",
      "Belirlediğin 8 - 11 aralığındaki random sayı : 9 , hepsinin toplamı: 28 , hepsinin çarpımı : 792 \n",
      "Belirlediğin 9 - 13 aralığındaki random sayı : 12 , hepsinin toplamı: 34 , hepsinin çarpımı : 1404 \n"
     ]
    }
   ],
   "source": [
    "for sinir1 in range(5,10):\n",
    "    sinir2=random.randrange(10,15)\n",
    "    randSayi(sinir1,sinir2)"
   ]
  },
  {
   "cell_type": "markdown",
   "metadata": {},
   "source": [
    "Bu arada hazır random modülüne ve fonksiyonlara girmişken \"python 3rd party libraries/modules\" de anlatim. Üstte dediğim gibi başkaları tarafından yazılmış kodları kendin kullanabiliyosun, bunun en basit yolu insanların bu kodları kütüphane olarak paylaşması. pypi.org diye bi site var burdan bulabilirsin veya direk google da ararsan da seni bu siteye yönlendirir zaten. Ama bulduğun kütüphaneyi kullanmak için önce pcye yüklemen lazım bunu da \"pip\" komutuyla yapıyosun. \"Çalıştır>cmd>pip install kütüphaneAdı\" olarak yazınca yükleniyo kütüphaneyi pcne. Sonra kendi kodunda kullanmak için random'da yaptığın gibi \"import kütüphaneAdı\" yazıyosun ve kullanabilir hale geliyosun."
   ]
  },
  {
   "cell_type": "markdown",
   "metadata": {},
   "source": [
    "Örnek olarak ekran fotosu çekme kütüphanesii kullanayım. Google'a python screenshot yazarsan karşına çıkacak sonuçlardan bi tanesi pypi'den şu site: https://pypi.org/project/pyscreenshot/ "
   ]
  },
  {
   "cell_type": "markdown",
   "metadata": {},
   "source": [
    "Girence buraya zaten direk başlık olarak kütüphanenin adının altında yükleme komutu var. Onu kopyalayıp cmd'ye yapıştırıyosun. Yanlış hatırlamıyosan jupyter'de o an kullandığın oturum için kullanılabilir hale gelmesi için kod satırına da yazabilirsin ama eğer jupyter'de yazarsan visual studio'da falan kullanamazsın. O yüzden kendin kullanmak istediklerini cmd'den de yaz. "
   ]
  },
  {
   "cell_type": "code",
   "execution_count": 2,
   "metadata": {},
   "outputs": [
    {
     "name": "stdout",
     "output_type": "stream",
     "text": [
      "Collecting pyscreenshotNote: you may need to restart the kernel to use updated packages.\n",
      "\n",
      "  Downloading pyscreenshot-2.2-py2.py3-none-any.whl (28 kB)\n",
      "Collecting entrypoint2\n",
      "  Downloading entrypoint2-0.2.1-py2.py3-none-any.whl (8.7 kB)\n",
      "Collecting mss; python_version > \"3.4\"\n",
      "  Downloading mss-6.0.0-py3-none-any.whl (76 kB)\n",
      "Collecting EasyProcess\n",
      "  Downloading EasyProcess-0.3-py2.py3-none-any.whl (7.9 kB)\n",
      "Collecting argparse\n",
      "  Using cached argparse-1.4.0-py2.py3-none-any.whl (23 kB)\n",
      "Installing collected packages: argparse, entrypoint2, mss, EasyProcess, pyscreenshot\n",
      "Successfully installed EasyProcess-0.3 argparse-1.4.0 entrypoint2-0.2.1 mss-6.0.0 pyscreenshot-2.2\n"
     ]
    }
   ],
   "source": [
    "pip install pyscreenshot "
   ]
  },
  {
   "cell_type": "markdown",
   "metadata": {},
   "source": [
    "Modülü yükledikten sonra nasıl kullanıldığını anlaman lazım. Pypi'de genelde yazar ama yazmazsa kütüpyanenin github'ında yazar. Bu pyscreenshot da githubda yazıyomuş zaten github linkini de koymuşlar oraya. https://github.com/ponty/pyscreenshot/tree/2.2\n",
    "\n",
    "Github'da kullanım kılavuzu \"README.md\" dosyası içinde olur. Direk dosyaların olduğu kısmın altında zaten böyle bi başlık var. Ordan kod kullanımlarını veya örneklerini bulursun.\n"
   ]
  },
  {
   "cell_type": "raw",
   "metadata": {},
   "source": [
    "import pyscreenshot as ImageGrab\n",
    "\n",
    "# grab fullscreen\n",
    "im = ImageGrab.grab()\n",
    "\n",
    "# save image file\n",
    "im.save('fullscreen.png')\n",
    "\n",
    "Kod buymuş. Bununla alakalı daha önce söylemediğim şey \"as\" komutu. Çok önemli değil ama bazen çok uzun kütüphane isimleri oluyo veya kütüphanenin içinden tek bi donksiyon çekmek istiyosun o gibi durumlarda kullanılıyo genelde. Anlamı standart ingilizce diyebiliriz. \"import pyscreenshot as ImageGrab\" derken pyscreenshot'ı ImageGrab gibi importla demek gibi bi şey. pyscreenshot yerine ImageGrab yazıyosun kodda.Sadece import pyscreenshot da yazabilirdi.\n"
   ]
  },
  {
   "cell_type": "code",
   "execution_count": 11,
   "metadata": {},
   "outputs": [],
   "source": [
    "import pyscreenshot as ImageGrab"
   ]
  },
  {
   "cell_type": "markdown",
   "metadata": {},
   "source": [
    "Şimdi kütüphaneyi importladık. Artık kullanabiliriz."
   ]
  },
  {
   "cell_type": "code",
   "execution_count": 12,
   "metadata": {},
   "outputs": [],
   "source": [
    "im = ImageGrab.grab()"
   ]
  },
  {
   "cell_type": "markdown",
   "metadata": {},
   "source": [
    "\"im\" dediğimiz değişken artık ekran fotoğrafı. Bu değişkenin \"type\" adını öğrenmek istersen daha önceden kullandığın type() fonksiyonuyla görebilirsin."
   ]
  },
  {
   "cell_type": "code",
   "execution_count": 13,
   "metadata": {},
   "outputs": [
    {
     "data": {
      "text/plain": [
       "PIL.PngImagePlugin.PngImageFile"
      ]
     },
     "execution_count": 13,
     "metadata": {},
     "output_type": "execute_result"
    }
   ],
   "source": [
    "type(im)"
   ]
  },
  {
   "cell_type": "markdown",
   "metadata": {},
   "source": [
    "Son olarak ekran fotosunu kaydetmeden bi uyarım daha var, pythonda kaydetmek istediğin şeyler için kaydederken bi yol belirlemezsen o an açık olan yola göre kaydedilir. Yol derken kod editörünün çalıştığı konum diyebiliriz. Python'ın kendi kod editöründen yazıyosan bu yol direk C diski oluyo. Visula Studio'dan yazıyosan hangi klasör içinde açtıysan yol o oluyo. Jupyter'de ne hiç bilmiyorum. Ama bunu öğrenmenin de bi kütüphanesi ve fonksiyonu var. \"import os\" yaparak temel bilgisayar kodlarına erişebiliyosun. "
   ]
  },
  {
   "cell_type": "code",
   "execution_count": 14,
   "metadata": {},
   "outputs": [],
   "source": [
    "import os"
   ]
  },
  {
   "cell_type": "code",
   "execution_count": 19,
   "metadata": {},
   "outputs": [
    {
     "name": "stdout",
     "output_type": "stream",
     "text": [
      "C:\\Users\\metab\\Desktop\\Anaconda\n"
     ]
    }
   ],
   "source": [
    "yol = os.getcwd() #bunu da özel olarak öğrenmene gerek yok google'a python get path falan yazarsan bulursun.\n",
    "print(yol)"
   ]
  },
  {
   "cell_type": "markdown",
   "metadata": {},
   "source": [
    "Neyse eğer pyscreenshot'ın örnek kodundaki gibi \"im.save('fullscreen.png')\" yazarsan üst satırdaki yola kaydeder bunun için yolu kendin yaz."
   ]
  },
  {
   "cell_type": "code",
   "execution_count": 32,
   "metadata": {},
   "outputs": [],
   "source": [
    "kayityolu=\"C:\\\\Users\\\\metab\\\\Desktop\\\\test.png\"#metab olan yere kullanıcı adını yazarsan masaüstüne kaydeder. Bilmiyosan bi bak.\n",
    "im.save(kayityolu) "
   ]
  }
 ],
 "metadata": {
  "kernelspec": {
   "display_name": "Python 3",
   "language": "python",
   "name": "python3"
  },
  "language_info": {
   "codemirror_mode": {
    "name": "ipython",
    "version": 3
   },
   "file_extension": ".py",
   "mimetype": "text/x-python",
   "name": "python",
   "nbconvert_exporter": "python",
   "pygments_lexer": "ipython3",
   "version": "3.8.3"
  }
 },
 "nbformat": 4,
 "nbformat_minor": 4
}
