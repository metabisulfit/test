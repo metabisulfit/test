{
 "cells": [
  {
   "cell_type": "markdown",
   "metadata": {},
   "source": [
    "# Listeler"
   ]
  },
  {
   "cell_type": "markdown",
   "metadata": {},
   "source": [
    "Sen okudum falan diyodun o yüzden direk kullanımlarına geçiyorum.\n",
    "\n",
    "Tanımlaması:"
   ]
  },
  {
   "cell_type": "code",
   "execution_count": 56,
   "metadata": {},
   "outputs": [],
   "source": [
    "ornekListe=[]"
   ]
  },
  {
   "cell_type": "code",
   "execution_count": 57,
   "metadata": {},
   "outputs": [
    {
     "name": "stdout",
     "output_type": "stream",
     "text": [
      "<class 'list'>\n"
     ]
    }
   ],
   "source": [
    "print(type(ornekListe))"
   ]
  },
  {
   "cell_type": "markdown",
   "metadata": {},
   "source": [
    "İçine bi şey eklemek istersen:"
   ]
  },
  {
   "cell_type": "code",
   "execution_count": 58,
   "metadata": {},
   "outputs": [
    {
     "data": {
      "text/plain": [
       "['içerik1']"
      ]
     },
     "execution_count": 58,
     "metadata": {},
     "output_type": "execute_result"
    }
   ],
   "source": [
    "ornekListe.append(\"içerik1\")\n",
    "ornekListe #bunu jupyter yazdırsın diye ekliyorum normalde print eklemen lazım"
   ]
  },
  {
   "cell_type": "markdown",
   "metadata": {},
   "source": [
    "İçindeki bi değeri değiştirmek için:"
   ]
  },
  {
   "cell_type": "code",
   "execution_count": 59,
   "metadata": {},
   "outputs": [
    {
     "data": {
      "text/plain": [
       "['Ek1']"
      ]
     },
     "execution_count": 59,
     "metadata": {},
     "output_type": "execute_result"
    }
   ],
   "source": [
    "ornekListe[0]=\"Ek1\"\n",
    "ornekListe "
   ]
  },
  {
   "cell_type": "markdown",
   "metadata": {},
   "source": [
    "Append kullanmadan direk ornekListe[1]=\"Ek2\" diyebilir miyiz diyecek olursan, alacağın hata:"
   ]
  },
  {
   "cell_type": "code",
   "execution_count": 60,
   "metadata": {},
   "outputs": [
    {
     "ename": "IndexError",
     "evalue": "list assignment index out of range",
     "output_type": "error",
     "traceback": [
      "\u001b[1;31m---------------------------------------------------------------------------\u001b[0m",
      "\u001b[1;31mIndexError\u001b[0m                                Traceback (most recent call last)",
      "\u001b[1;32m<ipython-input-60-912b1413c95e>\u001b[0m in \u001b[0;36m<module>\u001b[1;34m\u001b[0m\n\u001b[1;32m----> 1\u001b[1;33m \u001b[0mornekListe\u001b[0m\u001b[1;33m[\u001b[0m\u001b[1;36m1\u001b[0m\u001b[1;33m]\u001b[0m\u001b[1;33m=\u001b[0m\u001b[1;34m\"Ek2\"\u001b[0m\u001b[1;33m\u001b[0m\u001b[1;33m\u001b[0m\u001b[0m\n\u001b[0m",
      "\u001b[1;31mIndexError\u001b[0m: list assignment index out of range"
     ]
    }
   ],
   "source": [
    "ornekListe[1]=\"Ek2\""
   ]
  },
  {
   "cell_type": "markdown",
   "metadata": {},
   "source": [
    "Hata: \"IndexError: list assignment index out of range \" olur. \n",
    "Yani liste bu kadar uzun değil diyo. Append haricinde kullanabileceğin başka bi ekleme yöntemi istiyosan şunu kullanabilrsin:"
   ]
  },
  {
   "cell_type": "code",
   "execution_count": 61,
   "metadata": {},
   "outputs": [
    {
     "data": {
      "text/plain": [
       "['Ek1', 'Ek2']"
      ]
     },
     "execution_count": 61,
     "metadata": {},
     "output_type": "execute_result"
    }
   ],
   "source": [
    "ornekListe=[ornekListe[0],\"Ek2\"]\n",
    "ornekListe "
   ]
  },
  {
   "cell_type": "markdown",
   "metadata": {},
   "source": [
    "Neden ornekListe[0] yazdığımıza gelecek olursak:\n",
    "Eğer [0] yazmazsan olacak olan şu:"
   ]
  },
  {
   "cell_type": "code",
   "execution_count": 62,
   "metadata": {},
   "outputs": [
    {
     "data": {
      "text/plain": [
       "[['Ek1', 'Ek2'], 'Ek2']"
      ]
     },
     "execution_count": 62,
     "metadata": {},
     "output_type": "execute_result"
    }
   ],
   "source": [
    "ornekListe2=[ornekListe,\"Ek2\"]\n",
    "ornekListe2 "
   ]
  },
  {
   "cell_type": "markdown",
   "metadata": {},
   "source": [
    "Sonuç iç içe liste, yani list of lists. Kullanım alanını birazdan gösteririm."
   ]
  },
  {
   "cell_type": "markdown",
   "metadata": {},
   "source": [
    "Direk başta da tanımlayabilirsin tüm içerikleri:"
   ]
  },
  {
   "cell_type": "code",
   "execution_count": 63,
   "metadata": {},
   "outputs": [
    {
     "data": {
      "text/plain": [
       "['İçerik1', 'İçerik2', 'İçerik3']"
      ]
     },
     "execution_count": 63,
     "metadata": {},
     "output_type": "execute_result"
    }
   ],
   "source": [
    "liste = [\"İçerik1\", \"İçerik2\", \"İçerik3\"]\n",
    "liste "
   ]
  },
  {
   "cell_type": "code",
   "execution_count": 64,
   "metadata": {},
   "outputs": [
    {
     "data": {
      "text/plain": [
       "'İçerik2'"
      ]
     },
     "execution_count": 64,
     "metadata": {},
     "output_type": "execute_result"
    }
   ],
   "source": [
    "liste[1]"
   ]
  },
  {
   "cell_type": "markdown",
   "metadata": {},
   "source": [
    "liste[1] yazmama rağmen neden 2. sıradkini yazdı diyecek olursan git bi daha oku listeleri derim, listelerin içindekileri sayarken 0'dan başlanır."
   ]
  },
  {
   "cell_type": "markdown",
   "metadata": {},
   "source": [
    "Şimdi diğer liste fonksiyonlarını göstereyim:\n"
   ]
  },
  {
   "cell_type": "code",
   "execution_count": 65,
   "metadata": {},
   "outputs": [
    {
     "data": {
      "text/plain": [
       "['İçerik1', 'İçerik2', 'İçerik3']"
      ]
     },
     "execution_count": 65,
     "metadata": {},
     "output_type": "execute_result"
    }
   ],
   "source": [
    "liste2=liste.copy() #listeyi kopyalamk için bu gerekli\n",
    "liste2"
   ]
  },
  {
   "cell_type": "code",
   "execution_count": 66,
   "metadata": {},
   "outputs": [
    {
     "data": {
      "text/plain": [
       "['İçerik1', 'İçerik2', 'İçerik3']"
      ]
     },
     "execution_count": 66,
     "metadata": {},
     "output_type": "execute_result"
    }
   ],
   "source": [
    "liste3=liste #şimdi diyceksin böyle yapamıyo muyuz?\n",
    "liste3"
   ]
  },
  {
   "cell_type": "code",
   "execution_count": 67,
   "metadata": {},
   "outputs": [
    {
     "name": "stdout",
     "output_type": "stream",
     "text": [
      "liste: ['test1', 'İçerik2', 'İçerik3']\n",
      "liste2: ['İçerik1', 'İçerik2', 'İçerik3']\n",
      "liste3: ['test1', 'İçerik2', 'İçerik3']\n"
     ]
    }
   ],
   "source": [
    "liste[0]=\"test1\"\n",
    "print(\"liste:\",liste)\n",
    "print(\"liste2:\",liste2)\n",
    "print(\"liste3:\",liste3)"
   ]
  },
  {
   "cell_type": "markdown",
   "metadata": {},
   "source": [
    "Üstte gördüğün gibi eğer direk eşittir kullanırsan tam olarak her koşulda eşitliyo python iki listeyi, birinin içi değişirse diğeri de değişir. Bu yüzden copy'le kopyalaman lazım."
   ]
  },
  {
   "cell_type": "code",
   "execution_count": 68,
   "metadata": {},
   "outputs": [
    {
     "data": {
      "text/plain": [
       "['test1', 'yeni2.içerik', 'İçerik2', 'İçerik3']"
      ]
     },
     "execution_count": 68,
     "metadata": {},
     "output_type": "execute_result"
    }
   ],
   "source": [
    "liste.insert(1, \"yeni2.içerik\") #insert yeni içeriği nereye sokacağını ayarlar, eskisini silmez araya sokuyo.\n",
    "liste"
   ]
  },
  {
   "cell_type": "code",
   "execution_count": 69,
   "metadata": {},
   "outputs": [
    {
     "data": {
      "text/plain": [
       "['test1', 'İçerik2', 'İçerik3']"
      ]
     },
     "execution_count": 69,
     "metadata": {},
     "output_type": "execute_result"
    }
   ],
   "source": [
    "liste.remove(\"yeni2.içerik\")# remove direk konumu fark etmeden bi şeyi silmeni sağlar\n",
    "liste"
   ]
  },
  {
   "cell_type": "code",
   "execution_count": 70,
   "metadata": {},
   "outputs": [
    {
     "data": {
      "text/plain": [
       "['İçerik2', 'İçerik3']"
      ]
     },
     "execution_count": 70,
     "metadata": {},
     "output_type": "execute_result"
    }
   ],
   "source": [
    "liste.pop(0) #eğer pop'un içine bi sayı yazarsan listede karşılık geldiği konumdaki içeriği siler\n",
    "liste"
   ]
  },
  {
   "cell_type": "code",
   "execution_count": 71,
   "metadata": {},
   "outputs": [
    {
     "data": {
      "text/plain": [
       "['İçerik2']"
      ]
     },
     "execution_count": 71,
     "metadata": {},
     "output_type": "execute_result"
    }
   ],
   "source": [
    "liste.pop() #eğer boş nırakırsan direk sonuncuyu siler\n",
    "liste"
   ]
  },
  {
   "cell_type": "code",
   "execution_count": 72,
   "metadata": {},
   "outputs": [
    {
     "data": {
      "text/plain": [
       "['içerik1', 'İçerik2', 'içerik3']"
      ]
     },
     "execution_count": 72,
     "metadata": {},
     "output_type": "execute_result"
    }
   ],
   "source": [
    "liste.insert(0, \"içerik1\") #geri düzeltiyorum içeriği.\n",
    "liste.insert(2, \"içerik3\")\n",
    "liste"
   ]
  },
  {
   "cell_type": "code",
   "execution_count": 73,
   "metadata": {},
   "outputs": [],
   "source": [
    "liste4 = [\"a\", \"b\" , \"c\"]\n",
    "liste5 = [1, 2, 3]"
   ]
  },
  {
   "cell_type": "code",
   "execution_count": 75,
   "metadata": {},
   "outputs": [
    {
     "data": {
      "text/plain": [
       "['a', 'b', 'c', 1, 2, 3]"
      ]
     },
     "execution_count": 75,
     "metadata": {},
     "output_type": "execute_result"
    }
   ],
   "source": [
    "liste5 = liste4 + liste5 #iki listenin toplamı-birleşimi\n",
    "liste5"
   ]
  },
  {
   "cell_type": "code",
   "execution_count": 76,
   "metadata": {},
   "outputs": [
    {
     "data": {
      "text/plain": [
       "['a', 'b', 'c', 'a', 'b', 'c', 1, 2, 3]"
      ]
     },
     "execution_count": 76,
     "metadata": {},
     "output_type": "execute_result"
    }
   ],
   "source": [
    "liste4.extend(liste5)#direk extend'le birleştirebilirsin toplama yerine\n",
    "liste4"
   ]
  },
  {
   "cell_type": "code",
   "execution_count": 77,
   "metadata": {},
   "outputs": [
    {
     "data": {
      "text/plain": [
       "[3, 2, 1, 'c', 'b', 'a', 'c', 'b', 'a']"
      ]
     },
     "execution_count": 77,
     "metadata": {},
     "output_type": "execute_result"
    }
   ],
   "source": [
    "liste4.reverse()#tersine çeviriyo içini\n",
    "liste4"
   ]
  },
  {
   "cell_type": "code",
   "execution_count": 78,
   "metadata": {},
   "outputs": [
    {
     "data": {
      "text/plain": [
       "[]"
      ]
     },
     "execution_count": 78,
     "metadata": {},
     "output_type": "execute_result"
    }
   ],
   "source": [
    "liste4.clear()#komple siler listeyi siler\n",
    "liste4"
   ]
  },
  {
   "cell_type": "markdown",
   "metadata": {},
   "source": [
    "Şimdi list of list e geleyim:"
   ]
  },
  {
   "cell_type": "code",
   "execution_count": 80,
   "metadata": {},
   "outputs": [
    {
     "data": {
      "text/plain": [
       "[]"
      ]
     },
     "execution_count": 80,
     "metadata": {},
     "output_type": "execute_result"
    }
   ],
   "source": [
    "lol=[]#önce tanımlayalım.\n",
    "lol"
   ]
  },
  {
   "cell_type": "code",
   "execution_count": 81,
   "metadata": {},
   "outputs": [
    {
     "data": {
      "text/plain": [
       "[[]]"
      ]
     },
     "execution_count": 81,
     "metadata": {},
     "output_type": "execute_result"
    }
   ],
   "source": [
    "lol.append([]) #şimdi listenin içine liste ekledim\n",
    "lol"
   ]
  },
  {
   "cell_type": "code",
   "execution_count": 82,
   "metadata": {},
   "outputs": [
    {
     "data": {
      "text/plain": [
       "[['Mahmut']]"
      ]
     },
     "execution_count": 82,
     "metadata": {},
     "output_type": "execute_result"
    }
   ],
   "source": [
    "lol[0].append(\"Mahmut\")#listenin ilkine mahmutu ekledim\n",
    "lol"
   ]
  },
  {
   "cell_type": "code",
   "execution_count": 83,
   "metadata": {},
   "outputs": [
    {
     "data": {
      "text/plain": [
       "[['Mahmut', 'Bora']]"
      ]
     },
     "execution_count": 83,
     "metadata": {},
     "output_type": "execute_result"
    }
   ],
   "source": [
    "lol[0].append(\"Bora\")#listenin ilkine seni de ekledim\n",
    "lol"
   ]
  },
  {
   "cell_type": "code",
   "execution_count": 85,
   "metadata": {},
   "outputs": [
    {
     "data": {
      "text/plain": [
       "[['Mahmut', 'Bora'], []]"
      ]
     },
     "execution_count": 85,
     "metadata": {},
     "output_type": "execute_result"
    }
   ],
   "source": [
    "lol.append([]) #ikinci bi liste daha ekledim\n",
    "lol"
   ]
  },
  {
   "cell_type": "code",
   "execution_count": 86,
   "metadata": {},
   "outputs": [
    {
     "data": {
      "text/plain": [
       "[['Mahmut', 'Bora'], ['98', '10']]"
      ]
     },
     "execution_count": 86,
     "metadata": {},
     "output_type": "execute_result"
    }
   ],
   "source": [
    "lol[1].append(\"98\")\n",
    "lol[1].append(\"10\")\n",
    "lol"
   ]
  },
  {
   "cell_type": "code",
   "execution_count": 88,
   "metadata": {},
   "outputs": [
    {
     "name": "stdout",
     "output_type": "stream",
     "text": [
      "Mahmut notu: 98\n",
      "Bora notu: 10\n"
     ]
    }
   ],
   "source": [
    "for i in range(len(lol[0])):\n",
    "    print(lol[0][i],\"notu:\",lol[1][i])"
   ]
  },
  {
   "cell_type": "code",
   "execution_count": 89,
   "metadata": {},
   "outputs": [
    {
     "data": {
      "text/plain": [
       "2"
      ]
     },
     "execution_count": 89,
     "metadata": {},
     "output_type": "execute_result"
    }
   ],
   "source": [
    "#Üstte len içine lol yazsaydım:\n",
    "len(lol)"
   ]
  },
  {
   "cell_type": "markdown",
   "metadata": {},
   "source": [
    "2 çıkardı çünkü 2 tane ana liste var ben listenin içindeki sayıya ihtiyaç duyduğum için lol[0] yazdım"
   ]
  }
 ],
 "metadata": {
  "kernelspec": {
   "display_name": "Python 3",
   "language": "python",
   "name": "python3"
  },
  "language_info": {
   "codemirror_mode": {
    "name": "ipython",
    "version": 3
   },
   "file_extension": ".py",
   "mimetype": "text/x-python",
   "name": "python",
   "nbconvert_exporter": "python",
   "pygments_lexer": "ipython3",
   "version": "3.8.3"
  }
 },
 "nbformat": 4,
 "nbformat_minor": 4
}
